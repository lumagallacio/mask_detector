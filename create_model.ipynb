{
  "nbformat": 4,
  "nbformat_minor": 0,
  "metadata": {
    "kernelspec": {
      "display_name": "Python 3.6.9 64-bit ('venv': venv)",
      "language": "python",
      "name": "python36964bitvenvvenv754ba42805664e3dadd41cda2320620d"
    },
    "language_info": {
      "codemirror_mode": {
        "name": "ipython",
        "version": 3
      },
      "file_extension": ".py",
      "mimetype": "text/x-python",
      "name": "python",
      "nbconvert_exporter": "python",
      "pygments_lexer": "ipython3",
      "version": "3.6.9-final"
    },
    "colab": {
      "name": "create model.ipynb",
      "provenance": [],
      "collapsed_sections": [],
      "include_colab_link": true
    },
    "accelerator": "GPU"
  },
  "cells": [
    {
      "cell_type": "markdown",
      "metadata": {
        "id": "view-in-github",
        "colab_type": "text"
      },
      "source": [
        "<a href=\"https://colab.research.google.com/github/lumagallacio/mask_detector/blob/master/create_model.ipynb\" target=\"_parent\"><img src=\"https://colab.research.google.com/assets/colab-badge.svg\" alt=\"Open In Colab\"/></a>"
      ]
    },
    {
      "cell_type": "code",
      "metadata": {
        "id": "XgEpHyB0pNf1",
        "colab_type": "code",
        "colab": {
          "base_uri": "https://localhost:8080/",
          "height": 134
        },
        "outputId": "803d1c86-7ab5-4b06-8f23-0a4a549fd4ce"
      },
      "source": [
        "from google.colab import drive\n",
        "drive.mount('/content/drive')"
      ],
      "execution_count": null,
      "outputs": [
        {
          "output_type": "stream",
          "text": [
            "Go to this URL in a browser: https://accounts.google.com/o/oauth2/auth?client_id=947318989803-6bn6qk8qdgf4n4g3pfee6491hc0brc4i.apps.googleusercontent.com&redirect_uri=urn%3aietf%3awg%3aoauth%3a2.0%3aoob&response_type=code&scope=email%20https%3a%2f%2fwww.googleapis.com%2fauth%2fdocs.test%20https%3a%2f%2fwww.googleapis.com%2fauth%2fdrive%20https%3a%2f%2fwww.googleapis.com%2fauth%2fdrive.photos.readonly%20https%3a%2f%2fwww.googleapis.com%2fauth%2fpeopleapi.readonly\n",
            "\n",
            "Enter your authorization code:\n",
            "··········\n",
            "Mounted at /content/drive\n"
          ],
          "name": "stdout"
        }
      ]
    },
    {
      "cell_type": "markdown",
      "metadata": {
        "id": "x0j-LPF8o30H",
        "colab_type": "text"
      },
      "source": [
        "## importações de bibliotecas"
      ]
    },
    {
      "cell_type": "code",
      "metadata": {
        "id": "GBmIxaU2o30K",
        "colab_type": "code",
        "colab": {}
      },
      "source": [
        "from PIL import Image\n",
        "from os import listdir\n",
        "from os.path import isdir\n",
        "import numpy as np\n",
        "from sklearn.model_selection import train_test_split\n",
        "from sklearn.preprocessing import LabelBinarizer\n",
        "from tensorflow.keras.preprocessing.image import ImageDataGenerator\n",
        "from tensorflow.keras.applications import VGG19\n",
        "from tensorflow.keras.utils import to_categorical\n",
        "from tensorflow.keras import layers\n",
        "from tensorflow.keras import models\n",
        "from tensorflow.keras import optimizers\n"
      ],
      "execution_count": null,
      "outputs": []
    },
    {
      "cell_type": "markdown",
      "metadata": {
        "id": "f2_FRAe6o30Y",
        "colab_type": "text"
      },
      "source": [
        "### Carregando uma imagem"
      ]
    },
    {
      "cell_type": "code",
      "metadata": {
        "id": "iz-oB6bSo30e",
        "colab_type": "code",
        "colab": {}
      },
      "source": [
        "def select_image(filename):\n",
        "    # load image from file\n",
        "    image = Image.open(filename)\n",
        "    # convert to RGB, if needed\n",
        "    image = image.convert('RGB')\n",
        "    image = image.resize((160,160))\n",
        "    # convert to array\n",
        "    return np.asarray(image)"
      ],
      "execution_count": null,
      "outputs": []
    },
    {
      "cell_type": "markdown",
      "metadata": {
        "id": "FgHMGhlwo30o",
        "colab_type": "text"
      },
      "source": [
        "### Carregando uma classe"
      ]
    },
    {
      "cell_type": "code",
      "metadata": {
        "id": "kB8f57uyo30r",
        "colab_type": "code",
        "colab": {}
      },
      "source": [
        "def load_classes(diretorio, classe, imagens, labels):\n",
        "    # iterando arquivos\n",
        "\n",
        "    for filename in listdir(diretorio):\n",
        "\n",
        "        path = diretorio + filename\n",
        "\n",
        "        try:\n",
        "            imagens.append(select_image(path))\n",
        "            labels.append(classe)\n",
        "        except:\n",
        "            print(\"Erro ao ler imagem {}\".format(path))\n",
        "\n",
        "    return imagens, labels"
      ],
      "execution_count": null,
      "outputs": []
    },
    {
      "cell_type": "markdown",
      "metadata": {
        "id": "ujL2183go300",
        "colab_type": "text"
      },
      "source": [
        "### Selecionando Dataset"
      ]
    },
    {
      "cell_type": "code",
      "metadata": {
        "id": "MWJ9Qx6Yo302",
        "colab_type": "code",
        "colab": {}
      },
      "source": [
        "def select_data_set(diretorio):\n",
        "\n",
        "    imagens = list()\n",
        "    labels = list()\n",
        "\n",
        "    for subdir in listdir(diretorio):\n",
        "        # path\n",
        "        path = diretorio + '/'+ subdir + '/'\n",
        "\n",
        "        if not isdir(path):\n",
        "            continue\n",
        "        imagens, labels = load_classes(path, subdir, imagens, labels)\n",
        "\n",
        "    return imagens, labels"
      ],
      "execution_count": null,
      "outputs": []
    },
    {
      "cell_type": "markdown",
      "metadata": {
        "id": "Dbz4F6GNo31A",
        "colab_type": "text"
      },
      "source": [
        "### Carregando dataset Face"
      ]
    },
    {
      "cell_type": "code",
      "metadata": {
        "id": "d3pDC6EXpah_",
        "colab_type": "code",
        "colab": {
          "base_uri": "https://localhost:8080/",
          "height": 36
        },
        "outputId": "13862335-56af-47c7-f4cb-dbd1f5cdeacf"
      },
      "source": [
        "import os\n",
        "os.chdir('/content/drive/My Drive/Colab Notebooks/Mask detection')\n",
        "!pwd"
      ],
      "execution_count": null,
      "outputs": [
        {
          "output_type": "stream",
          "text": [
            "/content/drive/My Drive/Colab Notebooks/Mask detection\n"
          ],
          "name": "stdout"
        }
      ]
    },
    {
      "cell_type": "code",
      "metadata": {
        "tags": [],
        "id": "QcI4Jz5Xo31J",
        "colab_type": "code",
        "colab": {
          "base_uri": "https://localhost:8080/",
          "height": 36
        },
        "outputId": "20bab8a3-1e8e-423d-f2d0-07957c13b807"
      },
      "source": [
        "\n",
        "dataset = os.getcwd()+'/faces'\n",
        "imagens, labels  = select_data_set(dataset)\n",
        "imagens = np.array(imagens) / 255.0  ## convertendo de lista para array\n",
        "labels = np.array(labels)  ## convertendo de lista para array"
      ],
      "execution_count": null,
      "outputs": [
        {
          "output_type": "stream",
          "text": [
            "Erro ao ler imagem /content/drive/My Drive/Colab Notebooks/Mask detection/faces/maskon/mask (151).jpg\n"
          ],
          "name": "stdout"
        }
      ]
    },
    {
      "cell_type": "markdown",
      "metadata": {
        "id": "9ZwZfghxo31S",
        "colab_type": "text"
      },
      "source": [
        "### Tratando classes - Labels"
      ]
    },
    {
      "cell_type": "code",
      "metadata": {
        "id": "UO5dq70bo31U",
        "colab_type": "code",
        "colab": {}
      },
      "source": [
        "lb = LabelBinarizer()\n",
        "labels = lb.fit_transform(labels)\n",
        "labels = to_categorical(labels)"
      ],
      "execution_count": null,
      "outputs": []
    },
    {
      "cell_type": "markdown",
      "metadata": {
        "id": "omTyyxy4o31a",
        "colab_type": "text"
      },
      "source": [
        "### Definindo hyperparametros"
      ]
    },
    {
      "cell_type": "code",
      "metadata": {
        "id": "-D_Wbxtbo31b",
        "colab_type": "code",
        "colab": {}
      },
      "source": [
        "batch_size   = 32\n",
        "input_shape  = (160, 160, 3)\n",
        "random_state = 42\n",
        "alpha        = 1e-5\n",
        "epoch        = 30"
      ],
      "execution_count": null,
      "outputs": []
    },
    {
      "cell_type": "markdown",
      "metadata": {
        "id": "fpvdPTsMo31i",
        "colab_type": "text"
      },
      "source": [
        "## CALLBACKS\n",
        "\n",
        "Callback são classes que auxiliam o treinamento do modelo usando o Keras. As classes que usaremos são:\n",
        "\n",
        "- ModelCheckpoint\n",
        "- ReduceLROnPlateau\n",
        "- EarlyStopping"
      ]
    },
    {
      "cell_type": "code",
      "metadata": {
        "id": "LKKSjdgxo31l",
        "colab_type": "code",
        "colab": {}
      },
      "source": [
        "from tensorflow.keras.callbacks import ModelCheckpoint, ReduceLROnPlateau"
      ],
      "execution_count": null,
      "outputs": []
    },
    {
      "cell_type": "markdown",
      "metadata": {
        "id": "6OW3RMtOo31s",
        "colab_type": "text"
      },
      "source": [
        "#### ModelCheckpoint\n",
        "\n",
        "ModelCheckpoint nos ajudará a salvar o modelo para cada época, para que possamos treinar nosso modelo e não nos preocuparmos com possíveis problemas que possam acontecer, como travamento da máquina.\n",
        "\n",
        "- **filepath**: onde será salvo o modelo\n",
        "- **monitor**: métrica a ser monitorada\n",
        "- **verbose**: (1) mostra na barra de progresso (0) não\n",
        "- **save_best_only**: Salvar somente o melhor modelo\n",
        "- **mode**: como vamos monitorar o 'val_acc' o valor aqui vai ser 'max'. Queremos a máxima acurácia.\n"
      ]
    },
    {
      "cell_type": "code",
      "metadata": {
        "id": "Zk5ticJEo31t",
        "colab_type": "code",
        "colab": {}
      },
      "source": [
        "filepath=\"detector.h5\"\n",
        "checkpoint = ModelCheckpoint(filepath, monitor='val_acc', verbose=1, save_best_only=True, mode='max')"
      ],
      "execution_count": null,
      "outputs": []
    },
    {
      "cell_type": "markdown",
      "metadata": {
        "id": "OFg_bu03o312",
        "colab_type": "text"
      },
      "source": [
        "#### ReduceLROnPlateau\n",
        "\n",
        "Nos auxiliara a reduzir a taxa de aprendizado pelo fator (factor) caso não ocorra a mudança no loss.\n",
        "\n",
        "- **monitor**: métrica a ser monitorada\n",
        "- **factor**: fator de redução caso estejamos em um plator\n",
        "- **min_delta**: valor mínimo da perda\n",
        "- **patience**: só altere pelo fator após se repetir por 'patience' vezes.\n",
        "- **verbose**: (1) mostra na barra de progresso (0) não\n"
      ]
    },
    {
      "cell_type": "code",
      "metadata": {
        "id": "kKOvkA3Qo313",
        "colab_type": "code",
        "colab": {}
      },
      "source": [
        "lr_reduce = ReduceLROnPlateau(monitor='val_acc', factor=0.1, min_delta=alpha, patience=5, verbose=1)"
      ],
      "execution_count": null,
      "outputs": []
    },
    {
      "cell_type": "markdown",
      "metadata": {
        "id": "PeRe0jCio31-",
        "colab_type": "text"
      },
      "source": [
        "### Array de Callbacks"
      ]
    },
    {
      "cell_type": "code",
      "metadata": {
        "id": "MA3B7n9Ro32A",
        "colab_type": "code",
        "colab": {}
      },
      "source": [
        "callbacks = [checkpoint, lr_reduce]"
      ],
      "execution_count": null,
      "outputs": []
    },
    {
      "cell_type": "markdown",
      "metadata": {
        "id": "Ea86uUffo32J",
        "colab_type": "text"
      },
      "source": [
        "### Particionando dataset em teste e treino"
      ]
    },
    {
      "cell_type": "code",
      "metadata": {
        "id": "VTQabHExo32K",
        "colab_type": "code",
        "colab": {}
      },
      "source": [
        "(trainX, testX, trainY, testY) = train_test_split(imagens, labels, test_size=0.20, stratify=labels, random_state=random_state)"
      ],
      "execution_count": null,
      "outputs": []
    },
    {
      "cell_type": "markdown",
      "metadata": {
        "id": "nA_mhQ9Mo32R",
        "colab_type": "text"
      },
      "source": [
        "## DATA AUGMENTATION"
      ]
    },
    {
      "cell_type": "code",
      "metadata": {
        "id": "po3fIzOUo32T",
        "colab_type": "code",
        "colab": {}
      },
      "source": [
        "train_datagen = ImageDataGenerator(\n",
        "        horizontal_flip= True,\n",
        "        rotation_range=20,\n",
        "        zoom_range=0.2,\n",
        "        width_shift_range=0.2,\n",
        "        height_shift_range=0.2,\n",
        "        shear_range=0.2,\n",
        "        fill_mode='nearest'\n",
        "        )\n",
        "\n",
        "train_datagen.fit(trainX)\n",
        "\n",
        "data_aug = train_datagen.flow(trainX, trainY, batch_size=batch_size)"
      ],
      "execution_count": null,
      "outputs": []
    },
    {
      "cell_type": "markdown",
      "metadata": {
        "id": "5UeGyzUto32a",
        "colab_type": "text"
      },
      "source": [
        "## TRANSFER LEARNING"
      ]
    },
    {
      "cell_type": "code",
      "metadata": {
        "id": "odEa_LqNo32c",
        "colab_type": "code",
        "colab": {
          "base_uri": "https://localhost:8080/",
          "height": 56
        },
        "outputId": "13b699ef-91b5-4bf1-9d9d-f065392a53f5"
      },
      "source": [
        "conv_base = VGG19(weights='imagenet', include_top=False, input_shape=input_shape)"
      ],
      "execution_count": null,
      "outputs": [
        {
          "output_type": "stream",
          "text": [
            "Downloading data from https://storage.googleapis.com/tensorflow/keras-applications/vgg19/vgg19_weights_tf_dim_ordering_tf_kernels_notop.h5\n",
            "80142336/80134624 [==============================] - 1s 0us/step\n"
          ],
          "name": "stdout"
        }
      ]
    },
    {
      "cell_type": "code",
      "metadata": {
        "id": "iYsvB-5lo32i",
        "colab_type": "code",
        "colab": {
          "base_uri": "https://localhost:8080/",
          "height": 1000
        },
        "outputId": "9eb5142e-c350-4331-e57c-52d58df07863"
      },
      "source": [
        "conv_base.summary()"
      ],
      "execution_count": null,
      "outputs": [
        {
          "output_type": "stream",
          "text": [
            "Model: \"vgg19\"\n",
            "_________________________________________________________________\n",
            "Layer (type)                 Output Shape              Param #   \n",
            "=================================================================\n",
            "input_1 (InputLayer)         [(None, 160, 160, 3)]     0         \n",
            "_________________________________________________________________\n",
            "block1_conv1 (Conv2D)        (None, 160, 160, 64)      1792      \n",
            "_________________________________________________________________\n",
            "block1_conv2 (Conv2D)        (None, 160, 160, 64)      36928     \n",
            "_________________________________________________________________\n",
            "block1_pool (MaxPooling2D)   (None, 80, 80, 64)        0         \n",
            "_________________________________________________________________\n",
            "block2_conv1 (Conv2D)        (None, 80, 80, 128)       73856     \n",
            "_________________________________________________________________\n",
            "block2_conv2 (Conv2D)        (None, 80, 80, 128)       147584    \n",
            "_________________________________________________________________\n",
            "block2_pool (MaxPooling2D)   (None, 40, 40, 128)       0         \n",
            "_________________________________________________________________\n",
            "block3_conv1 (Conv2D)        (None, 40, 40, 256)       295168    \n",
            "_________________________________________________________________\n",
            "block3_conv2 (Conv2D)        (None, 40, 40, 256)       590080    \n",
            "_________________________________________________________________\n",
            "block3_conv3 (Conv2D)        (None, 40, 40, 256)       590080    \n",
            "_________________________________________________________________\n",
            "block3_conv4 (Conv2D)        (None, 40, 40, 256)       590080    \n",
            "_________________________________________________________________\n",
            "block3_pool (MaxPooling2D)   (None, 20, 20, 256)       0         \n",
            "_________________________________________________________________\n",
            "block4_conv1 (Conv2D)        (None, 20, 20, 512)       1180160   \n",
            "_________________________________________________________________\n",
            "block4_conv2 (Conv2D)        (None, 20, 20, 512)       2359808   \n",
            "_________________________________________________________________\n",
            "block4_conv3 (Conv2D)        (None, 20, 20, 512)       2359808   \n",
            "_________________________________________________________________\n",
            "block4_conv4 (Conv2D)        (None, 20, 20, 512)       2359808   \n",
            "_________________________________________________________________\n",
            "block4_pool (MaxPooling2D)   (None, 10, 10, 512)       0         \n",
            "_________________________________________________________________\n",
            "block5_conv1 (Conv2D)        (None, 10, 10, 512)       2359808   \n",
            "_________________________________________________________________\n",
            "block5_conv2 (Conv2D)        (None, 10, 10, 512)       2359808   \n",
            "_________________________________________________________________\n",
            "block5_conv3 (Conv2D)        (None, 10, 10, 512)       2359808   \n",
            "_________________________________________________________________\n",
            "block5_conv4 (Conv2D)        (None, 10, 10, 512)       2359808   \n",
            "_________________________________________________________________\n",
            "block5_pool (MaxPooling2D)   (None, 5, 5, 512)         0         \n",
            "=================================================================\n",
            "Total params: 20,024,384\n",
            "Trainable params: 20,024,384\n",
            "Non-trainable params: 0\n",
            "_________________________________________________________________\n"
          ],
          "name": "stdout"
        }
      ]
    },
    {
      "cell_type": "markdown",
      "metadata": {
        "id": "-fsT3B69o32o",
        "colab_type": "text"
      },
      "source": [
        "### Retreinando parte da VGG19\n",
        "\n"
      ]
    },
    {
      "cell_type": "code",
      "metadata": {
        "id": "17Cfs7-io32q",
        "colab_type": "code",
        "colab": {
          "base_uri": "https://localhost:8080/",
          "height": 56
        },
        "outputId": "087f8e4e-eb50-4a77-a391-a3105a4e9121"
      },
      "source": [
        "conv_base.trainable = True\n",
        "set_trainable = False\n",
        "\n",
        "\"\"\"\n",
        "for layer in conv_base.layers:\n",
        "  if layer.name == 'block5_conv1':\n",
        "    set_trainable = True\n",
        "  if set_trainable:\n",
        "    layer.trainable = True\n",
        "  else:\n",
        "    layer.trainable = False\n",
        "\"\"\""
      ],
      "execution_count": null,
      "outputs": [
        {
          "output_type": "execute_result",
          "data": {
            "application/vnd.google.colaboratory.intrinsic": {
              "type": "string"
            },
            "text/plain": [
              "\"\\nfor layer in conv_base.layers:\\n  if layer.name == 'block5_conv1':\\n    set_trainable = True\\n  if set_trainable:\\n    layer.trainable = True\\n  else:\\n    layer.trainable = False\\n\""
            ]
          },
          "metadata": {
            "tags": []
          },
          "execution_count": 19
        }
      ]
    },
    {
      "cell_type": "code",
      "metadata": {
        "id": "TWeni4dSo32w",
        "colab_type": "code",
        "colab": {
          "base_uri": "https://localhost:8080/",
          "height": 1000
        },
        "outputId": "9bfa7090-c2bd-486f-8394-5f94be28079d"
      },
      "source": [
        "conv_base.summary()"
      ],
      "execution_count": null,
      "outputs": [
        {
          "output_type": "stream",
          "text": [
            "Model: \"vgg19\"\n",
            "_________________________________________________________________\n",
            "Layer (type)                 Output Shape              Param #   \n",
            "=================================================================\n",
            "input_1 (InputLayer)         [(None, 160, 160, 3)]     0         \n",
            "_________________________________________________________________\n",
            "block1_conv1 (Conv2D)        (None, 160, 160, 64)      1792      \n",
            "_________________________________________________________________\n",
            "block1_conv2 (Conv2D)        (None, 160, 160, 64)      36928     \n",
            "_________________________________________________________________\n",
            "block1_pool (MaxPooling2D)   (None, 80, 80, 64)        0         \n",
            "_________________________________________________________________\n",
            "block2_conv1 (Conv2D)        (None, 80, 80, 128)       73856     \n",
            "_________________________________________________________________\n",
            "block2_conv2 (Conv2D)        (None, 80, 80, 128)       147584    \n",
            "_________________________________________________________________\n",
            "block2_pool (MaxPooling2D)   (None, 40, 40, 128)       0         \n",
            "_________________________________________________________________\n",
            "block3_conv1 (Conv2D)        (None, 40, 40, 256)       295168    \n",
            "_________________________________________________________________\n",
            "block3_conv2 (Conv2D)        (None, 40, 40, 256)       590080    \n",
            "_________________________________________________________________\n",
            "block3_conv3 (Conv2D)        (None, 40, 40, 256)       590080    \n",
            "_________________________________________________________________\n",
            "block3_conv4 (Conv2D)        (None, 40, 40, 256)       590080    \n",
            "_________________________________________________________________\n",
            "block3_pool (MaxPooling2D)   (None, 20, 20, 256)       0         \n",
            "_________________________________________________________________\n",
            "block4_conv1 (Conv2D)        (None, 20, 20, 512)       1180160   \n",
            "_________________________________________________________________\n",
            "block4_conv2 (Conv2D)        (None, 20, 20, 512)       2359808   \n",
            "_________________________________________________________________\n",
            "block4_conv3 (Conv2D)        (None, 20, 20, 512)       2359808   \n",
            "_________________________________________________________________\n",
            "block4_conv4 (Conv2D)        (None, 20, 20, 512)       2359808   \n",
            "_________________________________________________________________\n",
            "block4_pool (MaxPooling2D)   (None, 10, 10, 512)       0         \n",
            "_________________________________________________________________\n",
            "block5_conv1 (Conv2D)        (None, 10, 10, 512)       2359808   \n",
            "_________________________________________________________________\n",
            "block5_conv2 (Conv2D)        (None, 10, 10, 512)       2359808   \n",
            "_________________________________________________________________\n",
            "block5_conv3 (Conv2D)        (None, 10, 10, 512)       2359808   \n",
            "_________________________________________________________________\n",
            "block5_conv4 (Conv2D)        (None, 10, 10, 512)       2359808   \n",
            "_________________________________________________________________\n",
            "block5_pool (MaxPooling2D)   (None, 5, 5, 512)         0         \n",
            "=================================================================\n",
            "Total params: 20,024,384\n",
            "Trainable params: 20,024,384\n",
            "Non-trainable params: 0\n",
            "_________________________________________________________________\n"
          ],
          "name": "stdout"
        }
      ]
    },
    {
      "cell_type": "markdown",
      "metadata": {
        "id": "GV2Yq6tpo321",
        "colab_type": "text"
      },
      "source": [
        "## CRIANDO O MODELO COM A VGG19 COMO BASE"
      ]
    },
    {
      "cell_type": "code",
      "metadata": {
        "id": "c_upbIIVo322",
        "colab_type": "code",
        "colab": {}
      },
      "source": [
        "model = models.Sequential()\n",
        "model.add(conv_base)\n",
        "model.add(layers.GlobalAveragePooling2D())\n",
        "model.add(layers.BatchNormalization())\n",
        "model.add(layers.Flatten())\n",
        "model.add(layers.Dense(32, activation='relu'))\n",
        "model.add(layers.Dropout(0.5))\n",
        "model.add(layers.Dense(2, activation='softmax'))"
      ],
      "execution_count": null,
      "outputs": []
    },
    {
      "cell_type": "code",
      "metadata": {
        "id": "5z7ifU5no329",
        "colab_type": "code",
        "colab": {
          "base_uri": "https://localhost:8080/",
          "height": 443
        },
        "outputId": "b119f275-1d2a-4907-c6d0-95dc1a94a08e"
      },
      "source": [
        "model.summary()"
      ],
      "execution_count": null,
      "outputs": [
        {
          "output_type": "stream",
          "text": [
            "Model: \"sequential\"\n",
            "_________________________________________________________________\n",
            "Layer (type)                 Output Shape              Param #   \n",
            "=================================================================\n",
            "vgg19 (Model)                (None, 5, 5, 512)         20024384  \n",
            "_________________________________________________________________\n",
            "global_average_pooling2d (Gl (None, 512)               0         \n",
            "_________________________________________________________________\n",
            "batch_normalization (BatchNo (None, 512)               2048      \n",
            "_________________________________________________________________\n",
            "flatten (Flatten)            (None, 512)               0         \n",
            "_________________________________________________________________\n",
            "dense (Dense)                (None, 32)                16416     \n",
            "_________________________________________________________________\n",
            "dropout (Dropout)            (None, 32)                0         \n",
            "_________________________________________________________________\n",
            "dense_1 (Dense)              (None, 2)                 66        \n",
            "=================================================================\n",
            "Total params: 20,042,914\n",
            "Trainable params: 20,041,890\n",
            "Non-trainable params: 1,024\n",
            "_________________________________________________________________\n"
          ],
          "name": "stdout"
        }
      ]
    },
    {
      "cell_type": "markdown",
      "metadata": {
        "id": "ux5Txvnbo33D",
        "colab_type": "text"
      },
      "source": [
        "## COMPILANDO O MODELO"
      ]
    },
    {
      "cell_type": "code",
      "metadata": {
        "id": "70Agbp8No33E",
        "colab_type": "code",
        "colab": {}
      },
      "source": [
        "model.compile(loss='binary_crossentropy',\n",
        "                  optimizer='adam',\n",
        "                  metrics=['acc'])"
      ],
      "execution_count": null,
      "outputs": []
    },
    {
      "cell_type": "markdown",
      "metadata": {
        "id": "EaiRzbhoo33K",
        "colab_type": "text"
      },
      "source": [
        "## TREINANDO O MODELO\n",
        "\n",
        "***Obs: não treinar na hora da live***"
      ]
    },
    {
      "cell_type": "code",
      "metadata": {
        "id": "tajwa0lBo33K",
        "colab_type": "code",
        "colab": {
          "base_uri": "https://localhost:8080/",
          "height": 1000
        },
        "outputId": "59d8a684-fcd8-4889-cadd-37d8095b0d4a"
      },
      "source": [
        "history = model.fit_generator(\n",
        "                              data_aug,\n",
        "                              steps_per_epoch=len(trainX)// batch_size, # parte inteira da divisão\n",
        "                              validation_data=(testX, testY),\n",
        "                              validation_steps=len(testX) // batch_size,# parte inteira da divisão\n",
        "                              callbacks=callbacks,\n",
        "                              epochs=epoch)\n",
        "\n"
      ],
      "execution_count": null,
      "outputs": [
        {
          "output_type": "stream",
          "text": [
            "WARNING:tensorflow:From <ipython-input-24-157b40edf3b9>:7: Model.fit_generator (from tensorflow.python.keras.engine.training) is deprecated and will be removed in a future version.\n",
            "Instructions for updating:\n",
            "Please use Model.fit, which supports generators.\n",
            "Epoch 1/30\n",
            "47/47 [==============================] - ETA: 0s - loss: 0.3804 - acc: 0.8507\n",
            "Epoch 00001: val_acc improved from -inf to 0.50000, saving model to detector.h5\n",
            "47/47 [==============================] - 19s 397ms/step - loss: 0.3804 - acc: 0.8507 - val_loss: 7.6685 - val_acc: 0.5000 - lr: 0.0010\n",
            "Epoch 2/30\n",
            "47/47 [==============================] - ETA: 0s - loss: 0.2750 - acc: 0.8920\n",
            "Epoch 00002: val_acc did not improve from 0.50000\n",
            "47/47 [==============================] - 14s 296ms/step - loss: 0.2750 - acc: 0.8920 - val_loss: 7.6685 - val_acc: 0.5000 - lr: 0.0010\n",
            "Epoch 3/30\n",
            "47/47 [==============================] - ETA: 0s - loss: 0.2744 - acc: 0.8867\n",
            "Epoch 00003: val_acc did not improve from 0.50000\n",
            "47/47 [==============================] - 14s 289ms/step - loss: 0.2744 - acc: 0.8867 - val_loss: 7.6685 - val_acc: 0.5000 - lr: 0.0010\n",
            "Epoch 4/30\n",
            "47/47 [==============================] - ETA: 0s - loss: 0.2304 - acc: 0.9160\n",
            "Epoch 00004: val_acc improved from 0.50000 to 0.50781, saving model to detector.h5\n",
            "47/47 [==============================] - 16s 338ms/step - loss: 0.2304 - acc: 0.9160 - val_loss: 3.5753 - val_acc: 0.5078 - lr: 0.0010\n",
            "Epoch 5/30\n",
            "47/47 [==============================] - ETA: 0s - loss: 0.2791 - acc: 0.8967\n",
            "Epoch 00005: val_acc did not improve from 0.50781\n",
            "47/47 [==============================] - 14s 297ms/step - loss: 0.2791 - acc: 0.8967 - val_loss: 7.6685 - val_acc: 0.5000 - lr: 0.0010\n",
            "Epoch 6/30\n",
            "47/47 [==============================] - ETA: 0s - loss: 0.2385 - acc: 0.9047\n",
            "Epoch 00006: val_acc did not improve from 0.50781\n",
            "47/47 [==============================] - 14s 293ms/step - loss: 0.2385 - acc: 0.9047 - val_loss: 7.6685 - val_acc: 0.5000 - lr: 0.0010\n",
            "Epoch 7/30\n",
            "47/47 [==============================] - ETA: 0s - loss: 0.2200 - acc: 0.9207\n",
            "Epoch 00007: val_acc improved from 0.50781 to 0.54427, saving model to detector.h5\n",
            "47/47 [==============================] - 16s 339ms/step - loss: 0.2200 - acc: 0.9207 - val_loss: 3.0388 - val_acc: 0.5443 - lr: 0.0010\n",
            "Epoch 8/30\n",
            "47/47 [==============================] - ETA: 0s - loss: 0.2280 - acc: 0.9207\n",
            "Epoch 00008: val_acc improved from 0.54427 to 0.92188, saving model to detector.h5\n",
            "47/47 [==============================] - 16s 338ms/step - loss: 0.2280 - acc: 0.9207 - val_loss: 0.2412 - val_acc: 0.9219 - lr: 0.0010\n",
            "Epoch 9/30\n",
            "47/47 [==============================] - ETA: 0s - loss: 0.1950 - acc: 0.9313\n",
            "Epoch 00009: val_acc improved from 0.92188 to 0.93750, saving model to detector.h5\n",
            "47/47 [==============================] - 16s 338ms/step - loss: 0.1950 - acc: 0.9313 - val_loss: 0.2745 - val_acc: 0.9375 - lr: 0.0010\n",
            "Epoch 10/30\n",
            "47/47 [==============================] - ETA: 0s - loss: 0.1740 - acc: 0.9387\n",
            "Epoch 00010: val_acc did not improve from 0.93750\n",
            "47/47 [==============================] - 14s 299ms/step - loss: 0.1740 - acc: 0.9387 - val_loss: 6.8414 - val_acc: 0.5000 - lr: 0.0010\n",
            "Epoch 11/30\n",
            "47/47 [==============================] - ETA: 0s - loss: 0.2068 - acc: 0.9233\n",
            "Epoch 00011: val_acc did not improve from 0.93750\n",
            "47/47 [==============================] - 14s 291ms/step - loss: 0.2068 - acc: 0.9233 - val_loss: 4.1112 - val_acc: 0.5000 - lr: 0.0010\n",
            "Epoch 12/30\n",
            "47/47 [==============================] - ETA: 0s - loss: 0.1753 - acc: 0.9393\n",
            "Epoch 00012: val_acc did not improve from 0.93750\n",
            "47/47 [==============================] - 14s 290ms/step - loss: 0.1753 - acc: 0.9393 - val_loss: 7.5908 - val_acc: 0.5000 - lr: 0.0010\n",
            "Epoch 13/30\n",
            "47/47 [==============================] - ETA: 0s - loss: 0.1823 - acc: 0.9387\n",
            "Epoch 00013: val_acc did not improve from 0.93750\n",
            "47/47 [==============================] - 14s 289ms/step - loss: 0.1823 - acc: 0.9387 - val_loss: 7.4334 - val_acc: 0.5000 - lr: 0.0010\n",
            "Epoch 14/30\n",
            "47/47 [==============================] - ETA: 0s - loss: 0.1558 - acc: 0.9420\n",
            "Epoch 00014: val_acc did not improve from 0.93750\n",
            "\n",
            "Epoch 00014: ReduceLROnPlateau reducing learning rate to 0.00010000000474974513.\n",
            "47/47 [==============================] - 14s 292ms/step - loss: 0.1558 - acc: 0.9420 - val_loss: 0.7093 - val_acc: 0.8307 - lr: 0.0010\n",
            "Epoch 15/30\n",
            "47/47 [==============================] - ETA: 0s - loss: 0.1492 - acc: 0.9480\n",
            "Epoch 00015: val_acc did not improve from 0.93750\n",
            "47/47 [==============================] - 14s 289ms/step - loss: 0.1492 - acc: 0.9480 - val_loss: 3.6650 - val_acc: 0.5104 - lr: 1.0000e-04\n",
            "Epoch 16/30\n",
            "47/47 [==============================] - ETA: 0s - loss: 0.1385 - acc: 0.9480\n",
            "Epoch 00016: val_acc did not improve from 0.93750\n",
            "47/47 [==============================] - 14s 290ms/step - loss: 0.1385 - acc: 0.9480 - val_loss: 1.8466 - val_acc: 0.5521 - lr: 1.0000e-04\n",
            "Epoch 17/30\n",
            "47/47 [==============================] - ETA: 0s - loss: 0.1284 - acc: 0.9541\n",
            "Epoch 00017: val_acc improved from 0.93750 to 0.96615, saving model to detector.h5\n",
            "47/47 [==============================] - 16s 335ms/step - loss: 0.1284 - acc: 0.9541 - val_loss: 0.1187 - val_acc: 0.9661 - lr: 1.0000e-04\n",
            "Epoch 18/30\n",
            "47/47 [==============================] - ETA: 0s - loss: 0.1202 - acc: 0.9633\n",
            "Epoch 00018: val_acc improved from 0.96615 to 0.97135, saving model to detector.h5\n",
            "47/47 [==============================] - 16s 342ms/step - loss: 0.1202 - acc: 0.9633 - val_loss: 0.1138 - val_acc: 0.9714 - lr: 1.0000e-04\n",
            "Epoch 19/30\n",
            "47/47 [==============================] - ETA: 0s - loss: 0.1139 - acc: 0.9640\n",
            "Epoch 00019: val_acc did not improve from 0.97135\n",
            "47/47 [==============================] - 14s 295ms/step - loss: 0.1139 - acc: 0.9640 - val_loss: 0.1345 - val_acc: 0.9635 - lr: 1.0000e-04\n",
            "Epoch 20/30\n",
            "47/47 [==============================] - ETA: 0s - loss: 0.1287 - acc: 0.9567\n",
            "Epoch 00020: val_acc did not improve from 0.97135\n",
            "47/47 [==============================] - 14s 288ms/step - loss: 0.1287 - acc: 0.9567 - val_loss: 0.2241 - val_acc: 0.9323 - lr: 1.0000e-04\n",
            "Epoch 21/30\n",
            "47/47 [==============================] - ETA: 0s - loss: 0.1084 - acc: 0.9600\n",
            "Epoch 00021: val_acc did not improve from 0.97135\n",
            "47/47 [==============================] - 14s 288ms/step - loss: 0.1084 - acc: 0.9600 - val_loss: 0.1285 - val_acc: 0.9688 - lr: 1.0000e-04\n",
            "Epoch 22/30\n",
            "47/47 [==============================] - ETA: 0s - loss: 0.1202 - acc: 0.9600\n",
            "Epoch 00022: val_acc did not improve from 0.97135\n",
            "47/47 [==============================] - 14s 290ms/step - loss: 0.1202 - acc: 0.9600 - val_loss: 0.1351 - val_acc: 0.9635 - lr: 1.0000e-04\n",
            "Epoch 23/30\n",
            "47/47 [==============================] - ETA: 0s - loss: 0.1072 - acc: 0.9640\n",
            "Epoch 00023: val_acc did not improve from 0.97135\n",
            "\n",
            "Epoch 00023: ReduceLROnPlateau reducing learning rate to 1.0000000474974514e-05.\n",
            "47/47 [==============================] - 14s 288ms/step - loss: 0.1072 - acc: 0.9640 - val_loss: 0.2831 - val_acc: 0.9167 - lr: 1.0000e-04\n",
            "Epoch 24/30\n",
            "47/47 [==============================] - ETA: 0s - loss: 0.1172 - acc: 0.9627\n",
            "Epoch 00024: val_acc did not improve from 0.97135\n",
            "47/47 [==============================] - 13s 287ms/step - loss: 0.1172 - acc: 0.9627 - val_loss: 0.1979 - val_acc: 0.9401 - lr: 1.0000e-05\n",
            "Epoch 25/30\n",
            "47/47 [==============================] - ETA: 0s - loss: 0.1289 - acc: 0.9580\n",
            "Epoch 00025: val_acc did not improve from 0.97135\n",
            "47/47 [==============================] - 13s 286ms/step - loss: 0.1289 - acc: 0.9580 - val_loss: 0.1158 - val_acc: 0.9609 - lr: 1.0000e-05\n",
            "Epoch 26/30\n",
            "47/47 [==============================] - ETA: 0s - loss: 0.1151 - acc: 0.9633\n",
            "Epoch 00026: val_acc did not improve from 0.97135\n",
            "47/47 [==============================] - 13s 287ms/step - loss: 0.1151 - acc: 0.9633 - val_loss: 0.1154 - val_acc: 0.9609 - lr: 1.0000e-05\n",
            "Epoch 27/30\n",
            "47/47 [==============================] - ETA: 0s - loss: 0.1151 - acc: 0.9613\n",
            "Epoch 00027: val_acc did not improve from 0.97135\n",
            "47/47 [==============================] - 14s 288ms/step - loss: 0.1151 - acc: 0.9613 - val_loss: 0.1243 - val_acc: 0.9531 - lr: 1.0000e-05\n",
            "Epoch 28/30\n",
            "47/47 [==============================] - ETA: 0s - loss: 0.1079 - acc: 0.9647\n",
            "Epoch 00028: val_acc did not improve from 0.97135\n",
            "\n",
            "Epoch 00028: ReduceLROnPlateau reducing learning rate to 1.0000000656873453e-06.\n",
            "47/47 [==============================] - 14s 291ms/step - loss: 0.1079 - acc: 0.9647 - val_loss: 0.1783 - val_acc: 0.9401 - lr: 1.0000e-05\n",
            "Epoch 29/30\n",
            "47/47 [==============================] - ETA: 0s - loss: 0.1085 - acc: 0.9673\n",
            "Epoch 00029: val_acc did not improve from 0.97135\n",
            "47/47 [==============================] - 13s 287ms/step - loss: 0.1085 - acc: 0.9673 - val_loss: 0.1634 - val_acc: 0.9427 - lr: 1.0000e-06\n",
            "Epoch 30/30\n",
            "47/47 [==============================] - ETA: 0s - loss: 0.1050 - acc: 0.9614\n",
            "Epoch 00030: val_acc did not improve from 0.97135\n",
            "47/47 [==============================] - 14s 288ms/step - loss: 0.1050 - acc: 0.9614 - val_loss: 0.1510 - val_acc: 0.9427 - lr: 1.0000e-06\n"
          ],
          "name": "stdout"
        }
      ]
    },
    {
      "cell_type": "markdown",
      "metadata": {
        "id": "y_GGUunLo33T",
        "colab_type": "text"
      },
      "source": [
        "# ANALISANDO DADOS"
      ]
    },
    {
      "cell_type": "code",
      "metadata": {
        "id": "_1TsSeGwo33U",
        "colab_type": "code",
        "colab": {}
      },
      "source": [
        "import matplotlib.pyplot as plt\n",
        "%matplotlib inline"
      ],
      "execution_count": null,
      "outputs": []
    },
    {
      "cell_type": "code",
      "metadata": {
        "id": "evaB9uyZo33a",
        "colab_type": "code",
        "colab": {
          "base_uri": "https://localhost:8080/",
          "height": 573
        },
        "outputId": "4114d0f0-1e59-455e-d8d2-c72b1657e505"
      },
      "source": [
        "plt.plot(history.history['acc'])\n",
        "plt.plot(history.history['val_acc'])\n",
        "plt.title('model accuracy')\n",
        "plt.ylabel('accuracy')\n",
        "plt.xlabel('epoch')\n",
        "plt.legend(['train', 'test'], loc='upper left')\n",
        "plt.show()\n",
        "# summarize history for loss\n",
        "plt.plot(history.history['loss'])\n",
        "plt.plot(history.history['val_loss'])\n",
        "plt.title('model loss')\n",
        "plt.ylabel('loss')\n",
        "plt.xlabel('epoch')\n",
        "plt.legend(['train', 'test'], loc='upper left')\n",
        "plt.show()"
      ],
      "execution_count": null,
      "outputs": [
        {
          "output_type": "display_data",
          "data": {
            "image/png": "[encoded data removed]",
            "text/plain": [
              "<Figure size 432x288 with 1 Axes>"
            ]
          },
          "metadata": {
            "tags": [],
            "needs_background": "light"
          }
        },
        {
          "output_type": "display_data",
          "data": {
            "image/png": "[encoded data removed]",
            "text/plain": [
              "<Figure size 432x288 with 1 Axes>"
            ]
          },
          "metadata": {
            "tags": [],
            "needs_background": "light"
          }
        }
      ]
    },
    {
      "cell_type": "markdown",
      "metadata": {
        "id": "qhilOrZZo33f",
        "colab_type": "text"
      },
      "source": [
        "## Gerando matriz de confusão"
      ]
    },
    {
      "cell_type": "code",
      "metadata": {
        "id": "BsUJ5jdwo33g",
        "colab_type": "code",
        "colab": {}
      },
      "source": [
        "from sklearn.metrics import confusion_matrix\n",
        "pred = model.predict(testX)\n",
        "pred = np.argmax(pred,axis = 1) \n",
        "y_true = np.argmax(testY,axis = 1)"
      ],
      "execution_count": null,
      "outputs": []
    },
    {
      "cell_type": "code",
      "metadata": {
        "id": "Pp_PryMVo33l",
        "colab_type": "code",
        "colab": {
          "base_uri": "https://localhost:8080/",
          "height": 392
        },
        "outputId": "b999730a-0e56-4fd0-e222-e31a24da6b62"
      },
      "source": [
        "cm = confusion_matrix(y_true, pred)\n",
        "total = sum(sum(cm))\n",
        "acc = (cm[0, 0] + cm[1, 1]) / total\n",
        "sensitivity = cm[0, 0] / (cm[0, 0] + cm[0, 1])\n",
        "specificity = cm[1, 1] / (cm[1, 0] + cm[1, 1])\n",
        "\n",
        "print(\"Acurácia: {:.4f}\".format(acc))\n",
        "print(\"Sensitividade: {:.4f}\".format(sensitivity))\n",
        "print(\"Especificidade: {:.4f}\".format(specificity))\n",
        "\n",
        "from mlxtend.plotting import plot_confusion_matrix\n",
        "fig, ax = plot_confusion_matrix(conf_mat=cm ,  figsize=(5, 5))\n",
        "plt.show()"
      ],
      "execution_count": null,
      "outputs": [
        {
          "output_type": "stream",
          "text": [
            "Acurácia: 0.9427\n",
            "Sensitividade: 0.9010\n",
            "Especificidade: 0.9844\n"
          ],
          "name": "stdout"
        },
        {
          "output_type": "display_data",
          "data": {
            "image/png": "[encoded data removed]",
            "text/plain": [
              "<Figure size 360x360 with 1 Axes>"
            ]
          },
          "metadata": {
            "tags": [],
            "needs_background": "light"
          }
        }
      ]
    }
  ]
}